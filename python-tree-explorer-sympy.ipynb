{
 "cells": [
  {
   "cell_type": "code",
   "execution_count": 1,
   "metadata": {},
   "outputs": [],
   "source": [
    "from sympy import *\n",
    "import numpy as np\n",
    "import math\n",
    "import functools\n",
    "import matplotlib.pyplot as plt\n",
    "%matplotlib inline"
   ]
  },
  {
   "cell_type": "code",
   "execution_count": 5,
   "metadata": {},
   "outputs": [],
   "source": [
    "class TreeVar(object):\n",
    "    def __init__(self, level):\n",
    "        self.level = level\n",
    "    def __repr__(self):\n",
    "        return 'x_%d' % self.level\n",
    "    def __next__(self):\n",
    "        return TreeVar(self.level+1)"
   ]
  },
  {
   "cell_type": "code",
   "execution_count": 7,
   "metadata": {},
   "outputs": [],
   "source": [
    "x = TreeVar(0)"
   ]
  },
  {
   "cell_type": "code",
   "execution_count": 8,
   "metadata": {},
   "outputs": [
    {
     "data": {
      "text/plain": [
       "x_0"
      ]
     },
     "execution_count": 8,
     "metadata": {},
     "output_type": "execute_result"
    }
   ],
   "source": [
    "x"
   ]
  },
  {
   "cell_type": "code",
   "execution_count": 9,
   "metadata": {},
   "outputs": [
    {
     "data": {
      "text/plain": [
       "x_1"
      ]
     },
     "execution_count": 9,
     "metadata": {},
     "output_type": "execute_result"
    }
   ],
   "source": [
    "next(x)"
   ]
  },
  {
   "cell_type": "code",
   "execution_count": 24,
   "metadata": {},
   "outputs": [],
   "source": [
    "class TreeExp(object):\n",
    "    def __init__(self):\n",
    "        self.terms = []\n",
    "        \n",
    "    def __add__(self, other):\n",
    "        result = TreeExp()\n",
    "        if isinstance(other, TreeExp):\n",
    "            result.terms = self.terms + other.terms\n",
    "        elif isinstance(other, TreeTerm):\n",
    "            result.terms = self.terms + [other]\n",
    "        return result\n",
    "    \n",
    "    def __repr__(self):\n",
    "        if not self.terms:\n",
    "            return '0'\n",
    "        return ' + '.join([t.__repr__() for t in self.terms])"
   ]
  },
  {
   "cell_type": "code",
   "execution_count": 28,
   "metadata": {},
   "outputs": [],
   "source": [
    "class TreeTerm(object):\n",
    "    def __init__(self):\n",
    "        self.factors = []\n",
    "        \n",
    "    def __mul__(self, other):\n",
    "        result = TreeTerm()\n",
    "        if isinstance(other, TreeTerm):\n",
    "            result.factors = self.factors + other.factors\n",
    "        elif isinstance(other, TreeFactor):\n",
    "            result.factors = self.factors + [other]\n",
    "    \n",
    "        return result\n",
    "    \n",
    "    def __repr__(self):\n",
    "        if not self.factors:\n",
    "            return '1'\n",
    "        return '*'.join([f.__repr__() for f in self.factors])"
   ]
  },
  {
   "cell_type": "code",
   "execution_count": 29,
   "metadata": {},
   "outputs": [],
   "source": [
    "class TreeFactor:\n",
    "    def __init__(self, var_or_exp):\n",
    "        self.factor = var_or_exp\n",
    "    def __repr__(self):\n",
    "        result = self.factor.__repr__()\n",
    "        if isinstance(self.factor, TreeExp):\n",
    "            result = '(' + result + ')'\n",
    "        return result\n",
    "    def __mul__(self, other):\n",
    "        x = TreeTerm()*self\n",
    "        return x*other"
   ]
  },
  {
   "cell_type": "markdown",
   "metadata": {},
   "source": [
    "# Grammar\n",
    "The grammar is:\n",
    "\n",
    "`TreeExp -> TreeTerm [+ TreeExp]`\n",
    "\n",
    "`TreeTerm -> TreeFactor [* TreeTerm]`\n",
    "\n",
    "`TreeFactor -> TreeVar | (TreeExp)`"
   ]
  },
  {
   "cell_type": "code",
   "execution_count": 38,
   "metadata": {},
   "outputs": [],
   "source": [
    "yy = TreeExp() + TreeFactor(x)*TreeFactor(x)"
   ]
  },
  {
   "cell_type": "code",
   "execution_count": 39,
   "metadata": {},
   "outputs": [
    {
     "data": {
      "text/plain": [
       "__main__.TreeExp"
      ]
     },
     "execution_count": 39,
     "metadata": {},
     "output_type": "execute_result"
    }
   ],
   "source": [
    "type(yy)"
   ]
  },
  {
   "cell_type": "code",
   "execution_count": 40,
   "metadata": {},
   "outputs": [
    {
     "data": {
      "text/plain": [
       "0"
      ]
     },
     "execution_count": 40,
     "metadata": {},
     "output_type": "execute_result"
    }
   ],
   "source": [
    "yy + TreeFactor(x)"
   ]
  },
  {
   "cell_type": "code",
   "execution_count": 41,
   "metadata": {},
   "outputs": [],
   "source": [
    "init_printing()"
   ]
  },
  {
   "cell_type": "code",
   "execution_count": 42,
   "metadata": {},
   "outputs": [],
   "source": [
    "x = symbols('x0:9')"
   ]
  },
  {
   "cell_type": "code",
   "execution_count": 43,
   "metadata": {},
   "outputs": [
    {
     "data": {
      "image/png": "[encoded data removed]",
      "text/latex": [
       "$\\displaystyle x_{0}$"
      ],
      "text/plain": [
       "x₀"
      ]
     },
     "execution_count": 43,
     "metadata": {},
     "output_type": "execute_result"
    }
   ],
   "source": [
    "x[0]"
   ]
  },
  {
   "cell_type": "code",
   "execution_count": 45,
   "metadata": {},
   "outputs": [
    {
     "data": {
      "image/png": "[encoded data removed]",
      "text/latex": [
       "$\\displaystyle x_{0}^{2}$"
      ],
      "text/plain": [
       "  2\n",
       "x₀ "
      ]
     },
     "execution_count": 45,
     "metadata": {},
     "output_type": "execute_result"
    }
   ],
   "source": [
    "x[0]*x[0]"
   ]
  },
  {
   "cell_type": "markdown",
   "metadata": {},
   "source": [
    "Ok clearly I'm a bit rusty on how to program parsers, etc. Anyway, the point here is to expand a little bit of stuff in analytic combinatorics. Basically, we want to $q$-binomialize it, i.e. add a variable. For example, one can model multisets and sets by considering $G_n(x; z) = (1+x_1z)(1+x_2z)\\cdots(1+x_nz)$ which give all the subsets of size $k$ in the term $[z^k]G_n(x; z)$ (the elements of thes ubsets are just given by the indices of the $x$-variables that appear). If $1$ is substituted for each $x_i$, then $[z^k]G_n(1; z) = {n \\choose k }$. Similarly, multisets are realized as $F_n(x; z) = \\frac{1}{(1-x_1z)(1-x_2z) \\cdots (1-x_nz)}$, and $[z^k]F_n(1; z) = {n+k-1 \\choose k-1}$."
   ]
  },
  {
   "cell_type": "code",
   "execution_count": 46,
   "metadata": {},
   "outputs": [],
   "source": [
    "z = symbols('z')"
   ]
  },
  {
   "cell_type": "code",
   "execution_count": 49,
   "metadata": {},
   "outputs": [
    {
     "data": {
      "image/png": "[encoded data removed]",
      "text/latex": [
       "$\\displaystyle 1 + 3 z + 6 z^{2} + 10 z^{3} + 15 z^{4} + O\\left(z^{5}\\right)$"
      ],
      "text/plain": [
       "             2       3       4    ⎛ 5⎞\n",
       "1 + 3⋅z + 6⋅z  + 10⋅z  + 15⋅z  + O⎝z ⎠"
      ]
     },
     "execution_count": 49,
     "metadata": {},
     "output_type": "execute_result"
    }
   ],
   "source": [
    "(1/(1-z)**3).series(n=5)"
   ]
  },
  {
   "cell_type": "markdown",
   "metadata": {},
   "source": [
    "Analytic combinatorics, at least as seen so far, does the substitution $x_i = 1$. This is obviously useful for counting: to count all the terms of size $k$, substitute all $x_i = 1$ in $[z^k] G(1;z)$ for any generating function $G$ that has multiple variables. The construction of Cartesian product is even more interesting, though one should take noncommuting variables to realize this. If $x_i$ are $n$ noncommuting variables, and $z$ is allowed to commute with all of then, then defining $G_n(x;z) = (x_1 z + x_2 z + \\cdots + x_n z)^2$ is gives the Cartesian product of the set ${1,\\dots, n}$ with itself. All finite sequences can be given by $$\n",
    "\\sum_{n=0}^\\infty (x_1 z + x_2 z + \\cdots + x_n z)^k.\n",
    "$$"
   ]
  },
  {
   "cell_type": "markdown",
   "metadata": {},
   "source": [
    "But much more interesting is the generating function for internal nodes binary trees. As done in analytic combinatorics, a tree can be realied as either empty (or one external node), or a tree, a root (internal node), and another tree. This is expressed in the symbolic method as $T(z) = 1 + zT(z)^2$, for which we can solve for $T(z)$ by the quadratic formula:\n",
    "\n",
    "$$\n",
    "T(z) = \\frac{1 - \\sqrt{1- 4z}}{2z}\n",
    "$$\n",
    "\n",
    "for which the coefficients are the Catalan numbers. How do we generate one which gives an actual term in variables? This is pretty tough and interesting. We allow infinitely many noncommuting variables $x_0, x_1, x_2, \\dots$. The subscripts correspond to levels of the tree. Define $I(x_i) = x_{i+1}$, the transformation that _increments_ the index of the variable. Allow $z$ to commute with everything, as before. Extend $I$ to be a ring homomorphism, distributing over products and sums, and fixing $z$ and all its powers. Then the equation on a tree with explicit nodes will be:\n",
    "\n",
    "$$\n",
    "T(x; z) = 1 + I(T(x;z)) x_0 z I(T(x;z)).\n",
    "$$\n",
    "\n",
    "or just, for short:\n",
    "\n",
    "$$\n",
    "T = 1 + IT x_0 z IT.\n",
    "$$\n",
    "\n",
    "In order to check how correct this is, expand it a couple of times and use the distributive law:\n",
    "\n",
    "$$\n",
    "T = 1 + I(1 + IT x_0 z IT) x_0 z I(1+ IT x_0 z IT)\n",
    "$$\n",
    "$$\n",
    "T = 1 + (1 + I^2 T x_1 z I^2 T) x_0 z (1+ I^2T x_1 z I^2T)\n",
    "$$\n",
    "$$\n",
    "T = 1 + x_0 z + (I^2 T x_1 z I^2 T) x_0 z +  x_0 z (I^2T x_1 z I^2T) + ( I^2 T x_1 z I^2 T) x_0 z (I^2T x_1 z I^2T)\n",
    "$$\n",
    "$$\n",
    "T = 1 + x_0 z + (I^2 (1 + IT x_0 z IT) x_1 z I^2 (1 + IT x_0 z IT)) x_0 z +  x_0 z (I^2(1 + IT x_0 z IT) x_1 z I^2(1 + IT x_0 z IT)) + ( I^2 (1 + IT x_0 z IT) x_1 z I^2 (1 + IT x_0 z IT)) x_0 z (I^2(1 + IT x_0 z IT) x_1 z I^2(1 + IT x_0 z IT))\n",
    "$$\n",
    "$$\n",
    "T = 1 + x_0 z + (1 + I^3 T x_2 z I^3T) x_1 z (1 + I^3T x_2 z I^3T) x_0 z +  x_0 z (1 + I^3T x_2 z I^3T) x_1 z (1 + I^3T x_2 z I^3T) + ( (1 + I^3T x_2 z I^3T) x_1 z (1 + I^3T x_2 z I^3T)) x_0 z ((1 + I^3T x_2 z I^3T) x_1 z (1 + I^3T x_2 z I^3T))\n",
    "$$\n",
    "$$\n",
    "T = 1 + x_0 z + (x_1x_0 + x_0 x_1)z^2 + (x_2 x_1 x_0 + x_1 x_2 x_0 + x_0 x_2 x_1 + x_0 x_1 x_2 + x_1 x_0 x_1) z^3 + O(z^4)\n",
    "$$\n",
    "\n",
    "Basically, in every generation we get a term that looks like $1 + I^k T x_{k-1} z I^k T$, for which we can choose the $1$ and if not, then the term chosen is going to be $x_{k-1} z$ when the choosing the $1$ inside. You choose $1$ whenever you're maxing out on what exponents. The noncommutativity ensures that all those terms cannot collapse, and one gets $c_k$ distinct terms. If all variables are substituted with the value of $1$, then the coefficient is, as expected, just $c_k$. But if commutativity is allowed without substituting, what do we get? If we let $\\ell$ be the number of distinct indices, then the coefficients count the number of $\\ell$-level trees consisting of $k$ nodes. For example, there are no $1$-level trees consisting of $2$ nodes, as well as no $3$-or-greater level trees.\n"
   ]
  },
  {
   "cell_type": "markdown",
   "metadata": {},
   "source": [
    "Anyway, let's derive the explicit expression for the Catalan numbers, and some asymptotic , since these are central to the development of trees, and lots of developments recur, so it's useful. So we have derived\n",
    "\n",
    "$$\n",
    "T(z) = \\frac{1-\\sqrt{1-4z}}{2z}.\n",
    "$$\n",
    "\n",
    "Now as a power series, this is the binomial series with the constant term canceled and a power of $z$ missing:\n",
    "\n",
    "$$\n",
    "T(z) = \\sum_{n\\geq 0} c_n z^n = -\\frac{1}{2}\\sum_{n \\geq 1}{\\frac{1}{2} \\choose n} (-4)^n z^{n-1} = -\\frac{1}{2}\\sum_{n \\geq 0} {\\frac{1}{2} \\choose n+1} (-4)^{n+1} z^n\n",
    "$$\n",
    "\n",
    "and the expression\n",
    "\n",
    "$$\n",
    "{\\frac{1}{2} \\choose n} = \\frac{\\left(\\frac12\\right)\\left(-\\frac12\\right)\\left(-\\frac{3}{2}\\right) \\cdots \\left(\\frac12 - n+1\\right)}{n!} = \\frac{\\left(\\frac12\\right)\\left(-\\frac12\\right)\\left(-\\frac{3}{2}\\right) \\cdots \\left(\\frac{3-2n}{2}\\right)}{n!} = (-1)^{n-1}\\frac{1\\cdot3\\cdot5\\cdots(2n-3)}{2^n n!} = (-1)^{n-1}\\frac{(2n-2)!}{2^{2n-1} (n!)(n-1)!}  \n",
    "$$\n",
    "\n",
    "In that last line we simply filled in all the even numbers. But the product of even numbers up to $2n$ is just the factorial, times $2^n$ which accounts for every extra factor of $2$. Therefore\n",
    "\n",
    "$$\n",
    "-\\frac{1}{2}{\\frac{1}{2} \\choose n + 1} =  \\frac{(-1)^{n+1}}{2}\\frac{(2n)!}{2^{2n+1} (n!)^2 (n+1)} = \\frac{(-1)^{n+1}}{ 4^{n+1} (n+1)} {2n \\choose n} = (-1)^{n-1}\\frac{1\\cdot3\\cdot5\\cdots(2n-3)}{2^n n!} = (-1)^{n-1}\\frac{(2n-2)!}{2^{2n-1} (n!)(n-1)!}  .\n",
    "$$\n",
    "\n",
    "Equating coefficients, the $(-4)^{n+1}$ cancels out, giving the coefficient\n",
    "\n",
    "$$\n",
    "c_n =\\frac{1}{n+1} {2n \\choose n}.\n",
    "$$\n",
    "\n",
    "\n",
    "## This notebook continues as a Sage notebook"
   ]
  },
  {
   "cell_type": "code",
   "execution_count": 3,
   "metadata": {},
   "outputs": [],
   "source": [
    "z = symbols('z')"
   ]
  },
  {
   "cell_type": "code",
   "execution_count": 5,
   "metadata": {},
   "outputs": [],
   "source": [
    "T = (1 - sqrt(1-4*z))/(2*z)"
   ]
  },
  {
   "cell_type": "code",
   "execution_count": 6,
   "metadata": {},
   "outputs": [
    {
     "data": {
      "text/latex": [
       "$\\displaystyle 1 + z + 2 z^{2} + 5 z^{3} + 14 z^{4} + 42 z^{5} + 132 z^{6} + 429 z^{7} + 1430 z^{8} + 4862 z^{9} + O\\left(z^{10}\\right)$"
      ],
      "text/plain": [
       "1 + z + 2*z**2 + 5*z**3 + 14*z**4 + 42*z**5 + 132*z**6 + 429*z**7 + 1430*z**8 + 4862*z**9 + O(z**10)"
      ]
     },
     "execution_count": 6,
     "metadata": {},
     "output_type": "execute_result"
    }
   ],
   "source": [
    "T.series(z, n=10)"
   ]
  },
  {
   "cell_type": "code",
   "execution_count": 11,
   "metadata": {},
   "outputs": [
    {
     "data": {
      "text/latex": [
       "$\\displaystyle z^{3} + 6 z^{4} + 28 z^{5} + 120 z^{6} + 495 z^{7} + 2002 z^{8} + 8008 z^{9} + 31824 z^{10} + 125970 z^{11} + 497420 z^{12} + O\\left(z^{13}\\right)$"
      ],
      "text/plain": [
       "z**3 + 6*z**4 + 28*z**5 + 120*z**6 + 495*z**7 + 2002*z**8 + 8008*z**9 + 31824*z**10 + 125970*z**11 + 497420*z**12 + O(z**13)"
      ]
     },
     "execution_count": 11,
     "metadata": {},
     "output_type": "execute_result"
    }
   ],
   "source": [
    "(z*(T - 1)**2/(1-2*z*T)).series(z, n=13)"
   ]
  },
  {
   "cell_type": "code",
   "execution_count": null,
   "metadata": {},
   "outputs": [],
   "source": []
  }
 ],
 "metadata": {
  "kernelspec": {
   "display_name": "Python 3",
   "language": "python",
   "name": "python3"
  },
  "language_info": {
   "codemirror_mode": {
    "name": "ipython",
    "version": 3
   },
   "file_extension": ".py",
   "mimetype": "text/x-python",
   "name": "python",
   "nbconvert_exporter": "python",
   "pygments_lexer": "ipython3",
   "version": "3.7.6"
  }
 },
 "nbformat": 4,
 "nbformat_minor": 4
}
